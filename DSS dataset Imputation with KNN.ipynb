{
 "cells": [
  {
   "cell_type": "markdown",
   "id": "ceb8b019",
   "metadata": {},
   "source": [
    "# DSS dataset Imputation with KNN"
   ]
  },
  {
   "cell_type": "code",
   "execution_count": null,
   "id": "93b04e98",
   "metadata": {},
   "outputs": [],
   "source": [
    "import pandas as pd\n",
    "import numpy as np\n",
    "import matplotlib.pyplot as plt\n",
    "import warnings\n",
    "from sklearn.preprocessing import StandardScaler\n",
    "from sklearn.impute import KNNImputer\n",
    "from sklearn.metrics import r2_score, mean_squared_error\n",
    "\n",
    "warnings.filterwarnings(\"ignore\")"
   ]
  },
  {
   "cell_type": "code",
   "execution_count": null,
   "id": "fdf3e983",
   "metadata": {},
   "outputs": [],
   "source": [
    "dss = pd.read_csv('DSS_Data.csv').rename(columns={\"Unnamed: 0\": \"Patients\"}).set_index('Patients')\n",
    "dss"
   ]
  },
  {
   "cell_type": "code",
   "execution_count": null,
   "id": "80d03dfa",
   "metadata": {},
   "outputs": [],
   "source": [
    "# Randomly removing 5% of non-missing data points\n",
    "\n",
    "df_with_additional_nans = dss.copy()\n",
    "np.random.seed(45) \n",
    "\n",
    "# Getting indices of non-missing data\n",
    "\n",
    "non_missing_indices = np.argwhere(~np.isnan(df_with_additional_nans.values))\n",
    "\n",
    "# Randomly choosing 5% of these non-missing indices to remove\n",
    "\n",
    "num_to_remove = int(0.05 * len(non_missing_indices))\n",
    "indices_to_remove = non_missing_indices[np.random.choice(len(non_missing_indices), num_to_remove, replace=False)]\n",
    "\n",
    "# Creating a mask for the values to remove\n",
    "\n",
    "mask_to_remove = np.zeros(df_with_additional_nans.shape, dtype=bool)\n",
    "mask_to_remove[tuple(indices_to_remove.T)] = True\n",
    "\n",
    "# Removing the selected values\n",
    "\n",
    "df_with_additional_nans[mask_to_remove] = np.nan\n"
   ]
  },
  {
   "cell_type": "code",
   "execution_count": null,
   "id": "1557f410",
   "metadata": {},
   "outputs": [],
   "source": [
    "# Normalising the data\n",
    "\n",
    "scaler = StandardScaler()\n",
    "df_scaled = scaler.fit_transform(df_with_additional_nans)\n"
   ]
  },
  {
   "cell_type": "code",
   "execution_count": null,
   "id": "303dd1b7",
   "metadata": {},
   "outputs": [],
   "source": [
    "# Applying KNN imputation\n",
    "\n",
    "k = 5  \n",
    "imputer = KNNImputer(n_neighbors=k)\n",
    "df_imputed_scaled = imputer.fit_transform(df_scaled)\n",
    "df_imputed = scaler.inverse_transform(df_imputed_scaled)\n",
    "df_imputed = pd.DataFrame(df_imputed, columns=dss.columns, index=dss.index)\n"
   ]
  },
  {
   "cell_type": "code",
   "execution_count": null,
   "id": "5bdde936",
   "metadata": {},
   "outputs": [],
   "source": [
    "# Extracting the original and imputed values for the removed data points\n",
    "\n",
    "actual_values = dss.values[mask_to_remove]\n",
    "imputed_values = df_imputed.values[mask_to_remove]\n",
    "\n",
    "# Calculating R^2 value\n",
    "\n",
    "r2 = r2_score(actual_values, imputed_values)\n",
    "print(f\"R^2 value of the imputation: {r2}\")\n"
   ]
  },
  {
   "cell_type": "code",
   "execution_count": null,
   "id": "5bf6f905",
   "metadata": {},
   "outputs": [],
   "source": [
    "# Calculating Root Mean Squared Error (RMSE)\n",
    "\n",
    "mse = mean_squared_error(actual_values, imputed_values)\n",
    "rmse = np.sqrt(mse)\n",
    "\n",
    "# Calculating Normalized RMSE (NRMSE)\n",
    "range_of_actuals = actual_values.max() - actual_values.min()\n",
    "nrmse = rmse / range_of_actuals\n",
    "\n",
    "print(f\"Root Mean Squared Error (RMSE) of the imputation: {rmse}\")\n",
    "print(f\"Normalized Root Mean Squared Error (NRMSE) of the imputation: {nrmse}\")\n"
   ]
  },
  {
   "cell_type": "code",
   "execution_count": null,
   "id": "f107f714",
   "metadata": {},
   "outputs": [],
   "source": [
    "# Creating  a DataFrame to display actual and imputed values side by side\n",
    "\n",
    "comparison_df = pd.DataFrame({\n",
    "    'Actual': actual_values,\n",
    "    'Imputed': imputed_values\n",
    "})\n",
    "print(\"\\nActual vs Imputed Values:\")\n",
    "print(comparison_df)"
   ]
  },
  {
   "cell_type": "code",
   "execution_count": null,
   "id": "7890731f",
   "metadata": {},
   "outputs": [],
   "source": [
    "# Plotting the results\n",
    "\n",
    "plt.scatter(actual_values, imputed_values, color='blue', s=20)\n",
    "plt.xlabel('Actual Values')\n",
    "plt.ylabel('Imputed Values')\n",
    "plt.title(f'KNN Imputation: Actual vs Imputed Values (R^2 = {r2:.2f})')\n",
    "\n",
    "# Adding a red dotted line indicating the perfect fit\n",
    "\n",
    "min_val = min(min(actual_values), min(imputed_values))\n",
    "max_val = max(max(actual_values), max(imputed_values))\n",
    "plt.plot([min_val, max_val], [min_val, max_val], 'r--')\n",
    "\n",
    "# Adding grid and remove all spines\n",
    "\n",
    "plt.grid(True)\n",
    "plt.gca().spines['top'].set_visible(False)\n",
    "plt.gca().spines['right'].set_visible(False)\n",
    "plt.gca().spines['left'].set_visible(False)\n",
    "plt.gca().spines['bottom'].set_visible(False)\n",
    "\n",
    "plt.legend()\n",
    "plt.show()"
   ]
  }
 ],
 "metadata": {
  "kernelspec": {
   "display_name": "Python 3 (ipykernel)",
   "language": "python",
   "name": "python3"
  },
  "language_info": {
   "codemirror_mode": {
    "name": "ipython",
    "version": 3
   },
   "file_extension": ".py",
   "mimetype": "text/x-python",
   "name": "python",
   "nbconvert_exporter": "python",
   "pygments_lexer": "ipython3",
   "version": "3.11.4"
  }
 },
 "nbformat": 4,
 "nbformat_minor": 5
}
