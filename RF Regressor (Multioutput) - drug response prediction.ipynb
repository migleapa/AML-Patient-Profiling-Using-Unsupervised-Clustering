{
 "cells": [
  {
   "cell_type": "markdown",
   "id": "e442b521",
   "metadata": {},
   "source": [
    "# Random Forest Regressor (Multioutput) - Evaluation of phosphoproteomic markers as potential drug response predictors"
   ]
  },
  {
   "cell_type": "code",
   "execution_count": null,
   "id": "1159ce4f",
   "metadata": {},
   "outputs": [],
   "source": [
    "import pandas as pd\n",
    "import numpy as np\n",
    "import matplotlib.pyplot as plt\n",
    "from sklearn.preprocessing import StandardScaler\n",
    "from sklearn.model_selection import train_test_split\n",
    "from sklearn.multioutput import MultiOutputRegressor\n",
    "from sklearn.ensemble import RandomForestRegressor\n",
    "from sklearn.metrics import mean_squared_error\n"
   ]
  },
  {
   "cell_type": "code",
   "execution_count": null,
   "id": "af252c7b",
   "metadata": {},
   "outputs": [],
   "source": [
    "# loading phosphoproteomic data (top 12 sites) and drug response data with responses to 318 drugs\n",
    "\n",
    "X_phospho = pd.read_csv('phosphproteomics_top_12.csv').set_index('sites')\n",
    "\n",
    "y_responses = pd.read_csv('dss_imputed_318.csv')\n"
   ]
  },
  {
   "cell_type": "code",
   "execution_count": null,
   "id": "bf0f5edf",
   "metadata": {},
   "outputs": [],
   "source": [
    "# transposing the DataFrame to have patients as rows and features (sites) as columns\n",
    "\n",
    "X_phospho = X_phospho.T\n"
   ]
  },
  {
   "cell_type": "code",
   "execution_count": null,
   "id": "10aa7b29",
   "metadata": {},
   "outputs": [],
   "source": [
    "# scaling due to significantly different ranges\n",
    "\n",
    "scaler = StandardScaler()\n",
    "X_scaled = scaler.fit_transform(X_phospho)\n"
   ]
  },
  {
   "cell_type": "markdown",
   "id": "2b008ff5",
   "metadata": {},
   "source": [
    "### Running RF regressor - hyperparameter tuning"
   ]
  },
  {
   "cell_type": "code",
   "execution_count": null,
   "id": "3197a50d",
   "metadata": {},
   "outputs": [],
   "source": [
    "# splitting datasets to train and test (80/20)\n",
    "\n",
    "X_train, X_test, y_train, y_test = train_test_split(X_phospho, y_responses, test_size=0.2, random_state=42)\n"
   ]
  },
  {
   "cell_type": "code",
   "execution_count": null,
   "id": "7a7c29fa",
   "metadata": {},
   "outputs": [],
   "source": [
    "# defining the model\n",
    "\n",
    "rfr = RandomForestRegressor()\n"
   ]
  },
  {
   "cell_type": "code",
   "execution_count": null,
   "id": "f0b7ef99",
   "metadata": {},
   "outputs": [],
   "source": [
    "# defining the hyperparameter grid for the RandomForestRegressor\n",
    "\n",
    "param_grid = {\n",
    "    'n_estimators': [50, 100, 200],\n",
    "    'max_features': ['auto', 2, 3],\n",
    "    'min_samples_split': [2,3,4],\n",
    "}\n",
    "\n",
    "# setting up the grid search for the RandomForestRegressor CV\n",
    "\n",
    "grid_search = GridSearchCV(rfr, param_grid, cv=5, scoring='neg_mean_squared_error', n_jobs=-1)\n",
    "grid_search.fit(X_train, y_train)\n"
   ]
  },
  {
   "cell_type": "markdown",
   "id": "0f828cd9",
   "metadata": {},
   "source": [
    "### Predicting "
   ]
  },
  {
   "cell_type": "code",
   "execution_count": null,
   "id": "737c2bd3",
   "metadata": {},
   "outputs": [],
   "source": [
    "# getting the best model and wrapping it in MultiOutputRegressor\n",
    "\n",
    "best_model = MultiOutputRegressor(grid_search.best_estimator_)\n",
    "\n",
    "# making predictions\n",
    "\n",
    "y_pred = best_model.fit(X_train, y_train).predict(X_test)\n"
   ]
  },
  {
   "cell_type": "markdown",
   "id": "3b33c614",
   "metadata": {},
   "source": [
    "### Ploting drugs with responses predicted well by 12 phosphosites"
   ]
  },
  {
   "cell_type": "code",
   "execution_count": null,
   "id": "581de862",
   "metadata": {},
   "outputs": [],
   "source": [
    "# converting y_test and y_pred to numpy arrays\n",
    "\n",
    "y_test_np = np.array(y_test)\n",
    "y_pred_np = np.array(y_pred)\n",
    "\n",
    "# getting the number of drugs\n",
    "num_drugs = y_test_np.shape[1]\n",
    "\n",
    "# getting the drug names from y_responses column names\n",
    "drug_names = list(y_responses.columns)\n",
    "\n",
    "# setting the number of rows and columns for subplots (3 plots per row)\n",
    "num_plots_per_row = 3\n",
    "num_rows = int(np.ceil(num_drugs / num_plots_per_row))\n",
    "num_cols = num_plots_per_row\n",
    "\n",
    "# creating subplots with smaller size\n",
    "fig, axes = plt.subplots(num_rows, num_cols, figsize=(12, 4*num_rows)) \n",
    "\n",
    "# flatten axes for easier indexing\n",
    "axes = axes.flatten()\n",
    "\n",
    "# plotting actual versus predicted values for each drug with R-squared > 0.6\n",
    "\n",
    "plot_count = 0\n",
    "\n",
    "for i in range(num_drugs):\n",
    "    \n",
    "    # extracting actual and predicted values for the current drug\n",
    "    actual_values = y_test_np[:, i]\n",
    "    predicted_values = y_pred_np[:, i]\n",
    "    \n",
    "    # calculating the R-squared value\n",
    "    r_squared = r2_score(actual_values, predicted_values)\n",
    "    \n",
    "    # getting the drug name from y_responses column names\n",
    "    drug_name = drug_names[i]\n",
    "    \n",
    "    # plot only if R-squared is above 0.6\n",
    "    if r_squared > 0.6:\n",
    "        axes[plot_count].scatter(actual_values, predicted_values, color='blue', alpha=0.5)\n",
    "        axes[plot_count].plot([min(actual_values), max(actual_values)], [min(actual_values), max(actual_values)], color='red', linestyle='--')\n",
    "        axes[plot_count].set_title(f\"{drug_name}\\nR^2 = {r_squared:.2f}\", fontsize=12)\n",
    "        axes[plot_count].set_xlabel(\"Actual Values\", fontsize=10)\n",
    "        axes[plot_count].set_ylabel(\"Predicted Values\", fontsize=10)\n",
    "        axes[plot_count].tick_params(axis='both', which='major', labelsize=8)\n",
    "        axes[plot_count].grid(True)\n",
    "        plot_count += 1\n",
    "\n",
    "# hide empty subplots\n",
    "for j in range(plot_count, num_rows * num_cols):\n",
    "    fig.delaxes(axes[j])\n",
    "\n",
    "plt.tight_layout()\n",
    "plt.show()"
   ]
  }
 ],
 "metadata": {
  "kernelspec": {
   "display_name": "Python 3 (ipykernel)",
   "language": "python",
   "name": "python3"
  },
  "language_info": {
   "codemirror_mode": {
    "name": "ipython",
    "version": 3
   },
   "file_extension": ".py",
   "mimetype": "text/x-python",
   "name": "python",
   "nbconvert_exporter": "python",
   "pygments_lexer": "ipython3",
   "version": "3.11.4"
  }
 },
 "nbformat": 4,
 "nbformat_minor": 5
}
