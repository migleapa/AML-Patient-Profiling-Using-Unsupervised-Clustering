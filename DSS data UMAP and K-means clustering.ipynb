{
 "cells": [
  {
   "cell_type": "markdown",
   "id": "9e8de677",
   "metadata": {},
   "source": [
    "# DSS data UMAP and K-means clustering"
   ]
  },
  {
   "cell_type": "code",
   "execution_count": null,
   "id": "79ef576f",
   "metadata": {},
   "outputs": [],
   "source": [
    "import pandas as pd\n",
    "import numpy as np\n",
    "import seaborn as sns\n",
    "import matplotlib.pyplot as plt\n",
    "import warnings\n",
    "from sklearn.preprocessing import MinMaxScaler\n",
    "from sklearn.cluster import KMeans\n",
    "from sklearn.metrics import silhouette_score\n",
    "from umap import UMAP\n",
    "\n",
    "\n",
    "warnings.filterwarnings(\"ignore\")"
   ]
  },
  {
   "cell_type": "code",
   "execution_count": null,
   "id": "4797698a",
   "metadata": {},
   "outputs": [],
   "source": [
    "# loaidng the data \n",
    "\n",
    "dss_imputed = pd.read_csv('imputed_DSS_data.csv')\n"
   ]
  },
  {
   "cell_type": "code",
   "execution_count": null,
   "id": "5c5db3df",
   "metadata": {},
   "outputs": [],
   "source": [
    "# shifting all the data points by 1 to make all values positive\n",
    "\n",
    "shift_value = np.abs(np.min(dss_imputed)) + 1 \n",
    "shifted_data = dss_imputed + shift_value  \n",
    "\n",
    "# applying log transformation to correct skewness\n",
    "\n",
    "log_data = np.log1p(shifted_data)\n",
    "\n",
    "# applying Min-Max scaling to ensure equal contribution to Euclidean distance calculations\n",
    "\n",
    "min_max_scaler = MinMaxScaler()\n",
    "min_max_scaled_data = min_max_scaler.fit_transform(log_data)\n",
    "\n",
    "scaled_df = pd.DataFrame(min_max_scaled_data, index=dss_imputed.index, columns=dss_imputed.columns)\n",
    "scaled_df"
   ]
  },
  {
   "cell_type": "markdown",
   "id": "7892265e",
   "metadata": {},
   "source": [
    "### K-means clustering - UMAP dim reduction"
   ]
  },
  {
   "cell_type": "code",
   "execution_count": null,
   "id": "02d9ab53",
   "metadata": {},
   "outputs": [],
   "source": [
    "# finding optimal number of k \n",
    "\n",
    "\n",
    "# UMPA dim reduction\n",
    "\n",
    "umap_embedding = UMAP(n_components=2, \n",
    "                      n_neighbors=4, \n",
    "                      min_dist=0.2, \n",
    "                      metric=\"euclidean\", \n",
    "                      random_state=42).fit_transform(scaled_df)\n",
    "\n",
    "\n",
    "silhouette_scores = []\n",
    "\n",
    "for k in range(2, 11):\n",
    "    \n",
    "    kmeans = KMeans(n_clusters=k, random_state=42)\n",
    "    \n",
    "    kmeans.fit(umap_embedding)\n",
    "    \n",
    "    # predicting cluster labels\n",
    "    \n",
    "    labels = kmeans.labels_\n",
    "    \n",
    "    # Silhouette Score\n",
    "    \n",
    "    silhouette_avg = silhouette_score(umap_embedding, labels)\n",
    "    \n",
    "    silhouette_scores.append(silhouette_avg)\n",
    "    \n",
    "    print(f\"Silhouette Score for k={k}: {silhouette_avg}\")"
   ]
  },
  {
   "cell_type": "code",
   "execution_count": null,
   "id": "36f66712",
   "metadata": {},
   "outputs": [],
   "source": [
    "# k = 2 gives the best result \n",
    "\n",
    "num_clusters = 2\n",
    "\n",
    "# clustering the UMAP embeddings using KMeans\n",
    "\n",
    "kmeans = KMeans(n_clusters=num_clusters, random_state=42)\n",
    "cluster_labels = kmeans.fit_predict(umap_embedding)\n"
   ]
  },
  {
   "cell_type": "code",
   "execution_count": null,
   "id": "354e8a6b",
   "metadata": {},
   "outputs": [],
   "source": [
    "# adding cluster names to the original DataFrame\n",
    "\n",
    "clusters = scaled_df.copy()\n",
    "clusters['Cluster'] = ['Group_' + str(label + 1) for label in cluster_labels]\n"
   ]
  },
  {
   "cell_type": "code",
   "execution_count": null,
   "id": "e6b504e1",
   "metadata": {},
   "outputs": [],
   "source": [
    "# plotting the clustered data with cluster labels\n",
    "\n",
    "plt.figure(figsize=(10, 6))\n",
    "for cluster_label in range(num_clusters):\n",
    "    cluster_indices = umap_embedding[cluster_labels == cluster_label]\n",
    "    plt.scatter(cluster_indices[:, 0], cluster_indices[:, 1], label=f'Group {cluster_label + 1}')\n",
    "\n",
    "    # annotating each cluster with its label\n",
    "    cluster_center = cluster_indices.mean(axis=0)\n",
    "    plt.text(cluster_center[0], cluster_center[1], f'Group {cluster_label + 1}', fontsize=12, ha='center', va='center')\n",
    "\n",
    "plt.title('Clustering of the DSS data')\n",
    "plt.xlabel('UMAP Dimension 1')\n",
    "plt.ylabel('UMAP Dimension 2')\n",
    "plt.legend()\n",
    "plt.show()\n"
   ]
  },
  {
   "cell_type": "code",
   "execution_count": null,
   "id": "ea61a7c6",
   "metadata": {},
   "outputs": [],
   "source": []
  }
 ],
 "metadata": {
  "kernelspec": {
   "display_name": "Python 3 (ipykernel)",
   "language": "python",
   "name": "python3"
  },
  "language_info": {
   "codemirror_mode": {
    "name": "ipython",
    "version": 3
   },
   "file_extension": ".py",
   "mimetype": "text/x-python",
   "name": "python",
   "nbconvert_exporter": "python",
   "pygments_lexer": "ipython3",
   "version": "3.11.4"
  }
 },
 "nbformat": 4,
 "nbformat_minor": 5
}
